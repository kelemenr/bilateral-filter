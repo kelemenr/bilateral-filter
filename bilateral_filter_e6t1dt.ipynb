{
 "cells": [
  {
   "cell_type": "code",
   "execution_count": 2,
   "id": "4b8888b3",
   "metadata": {},
   "outputs": [],
   "source": [
    "import numpy as np\n",
    "from numba import njit"
   ]
  },
  {
   "cell_type": "code",
   "execution_count": 5,
   "id": "287ea4fc",
   "metadata": {},
   "outputs": [],
   "source": [
    "@njit\n",
    "def bilateral_filter(image, window, sigma_spatial, sigma_spectral):\n",
    "    out_image = np.zeros_like(image, dtype=np.uint8)\n",
    "    half_window_size = window // 2\n",
    "    height, width = image.shape\n",
    "\n",
    "    w = lambda i, j, k, l: np.exp(\n",
    "        -((i - k) ** 2 + (j - l) ** 2 / (2 * sigma_spatial ** 2))\n",
    "        / -((image[i, j] - image[k, l]) / (2 * sigma_spectral ** 2))\n",
    "    )\n",
    "\n",
    "    for h in range(height):\n",
    "        for w in range(width):\n",
    "            sum_ = 0\n",
    "            weight_sum = 0\n",
    "\n",
    "            for i in range(-half_window_size, half_window_size + 1):\n",
    "                for j in range(-half_window_size, half_window_size + 1):\n",
    "                    k = h + i\n",
    "                    l = w + j\n",
    "\n",
    "                    if k >= height:\n",
    "                        k -= height\n",
    "\n",
    "                    if l >= width:\n",
    "                        l -= width\n",
    "\n",
    "                    weight = w(i, j, k, l)\n",
    "                    sum_ += image[k, l] * weight\n",
    "                    weight_sum += weight\n",
    "\n",
    "            out_image[h, w] = int(np.round(sum // weight_sum))\n",
    "    return out_image"
   ]
  },
  {
   "cell_type": "code",
   "execution_count": 7,
   "id": "de8de144",
   "metadata": {},
   "outputs": [],
   "source": [
    "@njit\n",
    "def joint_bilateral_filter(image, guide, window, sigma_spatial, sigma_spectral):\n",
    "    out_image = np.zeros_like(image, dtype=np.uint8)\n",
    "    half_window_size = window // 2\n",
    "    height, width = image.shape\n",
    "\n",
    "    w = lambda i, j, k, l: np.exp(\n",
    "        -((i - k) ** 2 + (j - l) ** 2 / (2 * sigma_spatial ** 2))\n",
    "        / -((guide[i, j] - guide[k, l]) / (2 * sigma_spectral ** 2))\n",
    "    )\n",
    "\n",
    "    for h in range(height):\n",
    "        for w in range(width):\n",
    "            sum_ = 0\n",
    "            weight_sum = 0\n",
    "\n",
    "            for i in range(-half_window_size, half_window_size + 1):\n",
    "                for j in range(-half_window_size, half_window_size + 1):\n",
    "                    k = h + i\n",
    "                    l = w + j\n",
    "\n",
    "                    if k >= height:\n",
    "                        k -= height\n",
    "                    if l >= width:\n",
    "                        l -= width\n",
    "\n",
    "                    weight = w(i, j, k, l)\n",
    "                    sum_ += image[k, l] * weight\n",
    "                    weight_sum += weight\n",
    "\n",
    "            out_image[h, w] = int(np.round(sum // weight_sum))\n",
    "    return out_image"
   ]
  }
 ],
 "metadata": {
  "kernelspec": {
   "display_name": "Python 3",
   "language": "python",
   "name": "python3"
  },
  "language_info": {
   "codemirror_mode": {
    "name": "ipython",
    "version": 3
   },
   "file_extension": ".py",
   "mimetype": "text/x-python",
   "name": "python",
   "nbconvert_exporter": "python",
   "pygments_lexer": "ipython3",
   "version": "3.8.8"
  }
 },
 "nbformat": 4,
 "nbformat_minor": 5
}
